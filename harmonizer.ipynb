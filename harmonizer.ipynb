{
 "cells": [
  {
   "cell_type": "code",
   "execution_count": 21,
   "id": "404cea58",
   "metadata": {},
   "outputs": [],
   "source": [
    "from mido import MidiFile\n",
    "import soundfile as sf\n",
    "import numpy as np\n",
    "import psola"
   ]
  },
  {
   "cell_type": "code",
   "execution_count": 2,
   "id": "da1b6d3f",
   "metadata": {},
   "outputs": [],
   "source": [
    "midi_to_hz = lambda midi: 220*(2**((midi-57)/12))"
   ]
  },
  {
   "cell_type": "code",
   "execution_count": 3,
   "id": "5ac635fb",
   "metadata": {
    "scrolled": true
   },
   "outputs": [],
   "source": [
    "def gen_note_times(tracks):\n",
    "    note_times = [[] for pitch in range(128)]\n",
    "    tempo = 0\n",
    "\n",
    "    for track in tracks:\n",
    "        cur_time = 0\n",
    "        for msg in track:\n",
    "            if msg.type == 'set_tempo':\n",
    "                tempo = msg.tempo\n",
    "                \n",
    "            if msg.type != 'note_on':\n",
    "                continue\n",
    "                \n",
    "            note = msg.note\n",
    "            time = msg.time\n",
    "            vel = msg.velocity\n",
    "            cur_time += time\n",
    "\n",
    "            if (vel == 0) and note_times[note]:\n",
    "                note_times[note][-1].append(cur_time)\n",
    "\n",
    "            if vel != 0:\n",
    "                note_times[note].append([cur_time])\n",
    "\n",
    "    for note in range(128):\n",
    "        if note_times[note] and len(note_times[note][-1]) == 1:\n",
    "            note_times[note][-1].append(cur_time)\n",
    "            \n",
    "    return tempo, note_times"
   ]
  },
  {
   "cell_type": "code",
   "execution_count": 4,
   "id": "12eba6c6",
   "metadata": {},
   "outputs": [],
   "source": [
    "def gen_cutoffs(note_times):\n",
    "    _cutoffs_set = set([\n",
    "        time\n",
    "        for note in note_times\n",
    "        for section in note\n",
    "        for time in section[:2]\n",
    "    ])\n",
    "    cutoffs_list = list(_cutoffs_set)\n",
    "    cutoffs_list.sort()\n",
    "    \n",
    "    cutoffs_map = {\n",
    "        cutoff: cutoff\n",
    "        for cutoff in cutoffs_list\n",
    "    }\n",
    "    \n",
    "    index = 0\n",
    "    while index < (len(cutoffs_list) - 1):\n",
    "        a,b = cutoffs_list[index], cutoffs_list[index + 1]\n",
    "        if (b - a) < 200:\n",
    "            cutoffs_map[cutoffs_list[index + 1]] = cutoffs_list[index]\n",
    "            del cutoffs_list[index + 1]\n",
    "        else:\n",
    "            index += 1\n",
    "\n",
    "    cutoffs_dict = {\n",
    "        time: index\n",
    "        for index, time in enumerate(cutoffs_list)\n",
    "    }\n",
    "    return (cutoffs_list, cutoffs_dict, cutoffs_map)"
   ]
  },
  {
   "cell_type": "code",
   "execution_count": 5,
   "id": "115ddc2a",
   "metadata": {},
   "outputs": [],
   "source": [
    "def actually_insert_note(time_range, cutoffs_dict, note, lo, hi):\n",
    "    lo_index = cutoffs_dict[lo]\n",
    "    hi_index = cutoffs_dict[hi]\n",
    "    time_range[lo_index:hi_index] = [\n",
    "        note\n",
    "        for i in range(lo_index, hi_index)\n",
    "    ]\n",
    "def check_if_note_fits(time_blocks, cutoffs_dict, note, lo, hi):\n",
    "    lo_index = cutoffs_dict[lo]\n",
    "    hi_index = cutoffs_dict[hi]\n",
    "    if all([\n",
    "        cur_note == 0\n",
    "        for cur_note in time_blocks[lo_index:hi_index]\n",
    "    ]):\n",
    "        return True\n",
    "    return False\n",
    "    \n",
    "def insert_voice(time_blocks, cutoffs_dict, cutoffs_map, note, lo, hi):\n",
    "    for voice in time_blocks:\n",
    "        if check_if_note_fits(voice, cutoffs_dict, note, cutoffs_map[lo], cutoffs_map[hi]):\n",
    "            actually_insert_note(voice, cutoffs_dict, note, cutoffs_map[lo], cutoffs_map[hi])\n",
    "            return\n",
    "    time_blocks.append([\n",
    "        0\n",
    "        for i in range(len(cutoffs_dict) - 1)\n",
    "    ])\n",
    "    actually_insert_note(time_blocks[-1], cutoffs_dict, note, cutoffs_map[lo], cutoffs_map[hi])"
   ]
  },
  {
   "cell_type": "code",
   "execution_count": 6,
   "id": "720a01ee",
   "metadata": {
    "scrolled": false
   },
   "outputs": [],
   "source": [
    "def gen_time_blocks(tracks):\n",
    "    time_blocks = []\n",
    "    tempo, note_times = gen_note_times(tracks)\n",
    "    cutoffs_list, cutoffs_dict, cutoffs_map = gen_cutoffs(note_times)\n",
    "    \n",
    "    for midi, times in enumerate(note_times):\n",
    "        for time_range in times:\n",
    "            lo, hi = time_range[:2]\n",
    "            insert_voice(time_blocks, cutoffs_dict, cutoffs_map, midi, lo, hi)\n",
    "    \n",
    "    return cutoffs_list, cutoffs_dict, time_blocks"
   ]
  },
  {
   "cell_type": "code",
   "execution_count": 7,
   "id": "3ce61814",
   "metadata": {},
   "outputs": [],
   "source": [
    "def get_length_of_midi(mid, tempo, note_times):\n",
    "    tempo *= 1.5\n",
    "    total_ticks = max([\n",
    "        end_time\n",
    "        for pitch_blocks in note_times\n",
    "        for start_time, end_time in pitch_blocks\n",
    "    ])\n",
    "    return (tempo / 1_000_000) * (total_ticks / mid.ticks_per_beat) / 1.6"
   ]
  },
  {
   "cell_type": "code",
   "execution_count": 8,
   "id": "e26da245",
   "metadata": {},
   "outputs": [],
   "source": [
    "def gen_tone_of_length(seconds, freq=200):\n",
    "    return list(np.sin(np.arange(\n",
    "        0, 2*np.pi*freq*seconds, 2*np.pi*freq/44100\n",
    "    )))"
   ]
  },
  {
   "cell_type": "code",
   "execution_count": 9,
   "id": "8c0b3d12",
   "metadata": {},
   "outputs": [],
   "source": [
    "def gen_f0s_from_blocks(time_blocks, cutoffs_list, cutoffs_dict):\n",
    "    f0s = np.zeros([len(time_blocks), max(cutoffs_dict.keys())])\n",
    "\n",
    "    for block_index, block in enumerate(time_blocks):\n",
    "        for note_index, note in enumerate(block):\n",
    "            lo = cutoffs_list[note_index]\n",
    "            hi = cutoffs_list[note_index + 1]\n",
    "            f0s[block_index][np.arange(lo, hi)] = midi_to_hz(note)\n",
    "            \n",
    "    return f0s"
   ]
  },
  {
   "cell_type": "code",
   "execution_count": 10,
   "id": "eb538108",
   "metadata": {},
   "outputs": [],
   "source": [
    "def gen_f0s(filepath):\n",
    "    mid = MidiFile(filepath, clip=True)\n",
    "\n",
    "    cutoffs_list, cutoffs_dict, time_blocks = gen_time_blocks(mid.tracks)\n",
    "    f0s = gen_f0s_from_blocks(time_blocks, cutoffs_list, cutoffs_dict)\n",
    "    \n",
    "    return f0s"
   ]
  },
  {
   "cell_type": "code",
   "execution_count": 20,
   "id": "4cdabbe6",
   "metadata": {},
   "outputs": [],
   "source": [
    "def vocode(sound, f0s):\n",
    "    full = np.zeros(len(sound))\n",
    "\n",
    "    for f0 in f0s:\n",
    "        # Partially taken from https://thewolfsound.com/how-to-auto-tune-your-voice-with-python/\n",
    "        vocoded = psola.vocode(sound,\n",
    "                     sample_rate=int(44100),\n",
    "                     target_pitch=f0,\n",
    "                     fmin=65.41,   # C2 = 65.41 Hz\n",
    "                     fmax=2093.00) # C7 = 2093.00 Hz\n",
    "\n",
    "        size_ratio = len(sound) / len(f0)\n",
    "        zeros_indices = [\n",
    "            int(index * size_ratio + offset)\n",
    "            for index, i in enumerate(f0) if i < 10\n",
    "            for offset in range(int(size_ratio // 1 + 1))\n",
    "        ]\n",
    "        included = [0 for i in range(int(len(zeros_indices)))]\n",
    "        for i in zeros_indices:\n",
    "            included.append(int(i / size_ratio))\n",
    "\n",
    "        vocoded[zeros_indices] = 0\n",
    "        full += vocoded\n",
    "\n",
    "    full /= len(f0s)\n",
    "    return full"
   ]
  },
  {
   "cell_type": "code",
   "execution_count": 12,
   "id": "844261ca",
   "metadata": {},
   "outputs": [],
   "source": [
    "def add_metronome(vocoded, tempo):\n",
    "    skip = int((tempo / 1_000_000) * 44100)\n",
    "    \n",
    "    for start_index in range(0, len(vocoded), skip):\n",
    "        for index in range(start_index, start_index + 20):\n",
    "            vocoded[index] = 1\n",
    "        \n",
    "    return vocoded"
   ]
  },
  {
   "cell_type": "code",
   "execution_count": 13,
   "id": "2e4deda3",
   "metadata": {},
   "outputs": [],
   "source": [
    "def gen_tone_file(midi_in, mp3_out):\n",
    "    if not(midi_in.endswith('.mid')):\n",
    "        raise Exception('Not a MIDI file')\n",
    "           \n",
    "    file_prefix = midi_in[:-4]\n",
    "    mid = MidiFile(midi_in, clip=True)\n",
    "    tracks = mid.tracks\n",
    "    \n",
    "    tempo, note_times = gen_note_times(tracks)\n",
    "    length_of_midi = get_length_of_midi(mid, tempo, note_times)\n",
    "    tone = gen_tone_of_length(length_of_midi)\n",
    "    f0s = gen_f0s(midi_in)\n",
    "    \n",
    "    vocoded = vocode(tone, f0s)\n",
    "    sf.write(mp3_out, vocoded, 44100)"
   ]
  },
  {
   "cell_type": "code",
   "execution_count": 17,
   "id": "e9e93891",
   "metadata": {},
   "outputs": [],
   "source": [
    "def gen_vocoded(midi_in, mp3_in, mp3_out):\n",
    "    if not(midi_in.endswith('.mid')):\n",
    "        raise Exception('Not a MIDI file')\n",
    "    \n",
    "    if not(mp3_in.endswith('.mp3')):\n",
    "        raise Exception('Not an MP3 file')\n",
    "        \n",
    "    f0s = gen_f0s(midi_in)\n",
    "    waveform, sample_rate = sf.read(mp3_in)\n",
    "    vocoded = vocode(waveform, f0s)\n",
    "    \n",
    "    file_prefix = mp3_in[:-4]\n",
    "    sf.write(mp3_out, vocoded, 44100)"
   ]
  },
  {
   "cell_type": "code",
   "execution_count": 15,
   "id": "8549e7ec",
   "metadata": {},
   "outputs": [],
   "source": [
    "gen_tone_file(\n",
    "    'midis/auldlangsyne.mid',\n",
    "    'audio/auldlangsyne_tone.mp3'\n",
    ")"
   ]
  },
  {
   "cell_type": "code",
   "execution_count": 18,
   "id": "46040485",
   "metadata": {},
   "outputs": [],
   "source": [
    "gen_vocoded(\n",
    "    'midis/auldlangsyne.mid',\n",
    "    'audio/auldlangsyne_raw.mp3',\n",
    "    'audio/auldlangsyne_vocoded.mp3'\n",
    ")"
   ]
  }
 ],
 "metadata": {
  "kernelspec": {
   "display_name": "Python 3 (ipykernel)",
   "language": "python",
   "name": "python3"
  },
  "language_info": {
   "codemirror_mode": {
    "name": "ipython",
    "version": 3
   },
   "file_extension": ".py",
   "mimetype": "text/x-python",
   "name": "python",
   "nbconvert_exporter": "python",
   "pygments_lexer": "ipython3",
   "version": "3.10.12"
  }
 },
 "nbformat": 4,
 "nbformat_minor": 5
}
